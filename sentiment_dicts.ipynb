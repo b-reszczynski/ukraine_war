{
 "cells": [
  {
   "cell_type": "code",
   "execution_count": 73,
   "id": "fc775ec4",
   "metadata": {},
   "outputs": [
    {
     "name": "stderr",
     "output_type": "stream",
     "text": [
      "[nltk_data] Downloading package punkt to /home/kwaks/nltk_data...\n",
      "[nltk_data]   Package punkt is already up-to-date!\n",
      "Warning : `load_model` does not return WordVectorModel or SupervisedModel any more, but a `FastText` object which is very similar.\n"
     ]
    }
   ],
   "source": [
    "import numpy as np\n",
    "import pandas as pd\n",
    "from nrclex import NRCLex\n",
    "import translators as ts\n",
    "from tqdm import tqdm\n",
    "from progressbar import progressbar\n",
    "# import stanza as st\n",
    "# import simplemma\n",
    "import csv\n",
    "import re\n",
    "import string\n",
    "import fasttext as ft\n",
    "import translators as ts\n",
    "import itertools\n",
    "import re\n",
    "import spacy \n",
    "import en_core_web_lg\n",
    "nlp = en_core_web_lg.load()\n",
    "import nltk\n",
    "nltk.download('punkt')\n",
    "\n",
    "ft_model = ft.load_model(\"lid.176.bin\")\n",
    "dir_ = 'BIG_UKR/'\n",
    "name_uk = dir_+'country_heads_topic_ukraine.xlsx'\n",
    "name = dir_+'country_heads_topic_all.xlsx'"
   ]
  },
  {
   "cell_type": "code",
   "execution_count": 3,
   "id": "d0a0e512",
   "metadata": {},
   "outputs": [
    {
     "name": "stderr",
     "output_type": "stream",
     "text": [
      "2022-08-07 19:52:35.329571: W tensorflow/stream_executor/platform/default/dso_loader.cc:64] Could not load dynamic library 'libcuda.so.1'; dlerror: libcuda.so.1: cannot open shared object file: No such file or directory\n",
      "2022-08-07 19:52:35.329585: W tensorflow/stream_executor/cuda/cuda_driver.cc:269] failed call to cuInit: UNKNOWN ERROR (303)\n",
      "2022-08-07 19:52:35.329594: I tensorflow/stream_executor/cuda/cuda_diagnostics.cc:156] kernel driver does not appear to be running on this host (Kwakuter): /proc/driver/nvidia/version does not exist\n",
      "2022-08-07 19:52:35.329703: I tensorflow/core/platform/cpu_feature_guard.cc:193] This TensorFlow binary is optimized with oneAPI Deep Neural Network Library (oneDNN) to use the following CPU instructions in performance-critical operations:  AVX2 AVX512F AVX512_VNNI FMA\n",
      "To enable them in other operations, rebuild TensorFlow with the appropriate compiler flags.\n"
     ]
    }
   ],
   "source": [
    "from tqdm.notebook import tqdm\n",
    "import tensorflow_hub as hub\n",
    "import tensorflow as tf\n",
    "import tensorflow_text as text\n",
    "preprocessor = hub.KerasLayer(\"https://tfhub.dev/google/universal-sentence-encoder-cmlm/multilingual-preprocess/2\")\n",
    "encoderLabse = hub.KerasLayer(\"https://tfhub.dev/google/LaBSE/2\")\n",
    "\n",
    "def normalization(embeddings):\n",
    "    norms = np.linalg.norm(embeddings, 2, axis=1, keepdims=True)\n",
    "    return embeddings/norms\n",
    "\n",
    "def val_ct_dict(obj):\n",
    "    unique, counts = np.unique(obj, return_counts=True)\n",
    "    val_ct = dict(zip(unique, counts))\n",
    "    val_ct = dict(reversed(sorted(val_ct.items(), key=lambda item: item[1])))\n",
    "    return val_ct\n",
    "\n",
    "def embedd(sentence):\n",
    "    if isinstance(sentence, str):\n",
    "        embedding = tf.constant([sentence])\n",
    "    else:\n",
    "        embedding = tf.constant(sentence)\n",
    "    embedding = encoderLabse(preprocessor(embedding))[\"default\"]\n",
    "    embedding = normalization(embedding)\n",
    "    return embedding\n",
    "\n",
    "def embedd_list(list_obj):\n",
    "    embedded = np.zeros((len(list_obj), 768))\n",
    "    with tqdm(total=len(list_obj)) as pbar:\n",
    "        for i in range(len(list_obj)):\n",
    "            embedded[i] = embedd(list_obj[i])\n",
    "            pbar.update(1)\n",
    "    return embedded\n",
    "\n",
    "def val_ct_dict(obj):\n",
    "    unique, counts = np.unique(obj, return_counts=True)\n",
    "    val_ct = dict(zip(unique, counts))\n",
    "    val_ct = dict(reversed(sorted(val_ct.items(), key=lambda item: item[1])))\n",
    "    return val_ct"
   ]
  },
  {
   "cell_type": "code",
   "execution_count": 244,
   "id": "ca615378",
   "metadata": {},
   "outputs": [],
   "source": [
    "# langs =[\"de\", \"nl\", \"da\", \"fr\", \"it\", \"pl\", \"es\", \"pt\", \"ru\", \"ro\", \"fi\", \"lt\", \"sv\", \"el\", \"hr\", \"ca\", \"mk\"]\n",
    "langs =[ \"pl\", \"de\"]"
   ]
  },
  {
   "cell_type": "code",
   "execution_count": 237,
   "id": "a2d70b66",
   "metadata": {},
   "outputs": [],
   "source": [
    "en = pd.read_csv('lang_sentiment_dicts/en_sentiments.csv')"
   ]
  },
  {
   "cell_type": "code",
   "execution_count": 238,
   "id": "2eaea279",
   "metadata": {},
   "outputs": [
    {
     "data": {
      "text/html": [
       "<div>\n",
       "<style scoped>\n",
       "    .dataframe tbody tr th:only-of-type {\n",
       "        vertical-align: middle;\n",
       "    }\n",
       "\n",
       "    .dataframe tbody tr th {\n",
       "        vertical-align: top;\n",
       "    }\n",
       "\n",
       "    .dataframe thead th {\n",
       "        text-align: right;\n",
       "    }\n",
       "</style>\n",
       "<table border=\"1\" class=\"dataframe\">\n",
       "  <thead>\n",
       "    <tr style=\"text-align: right;\">\n",
       "      <th></th>\n",
       "      <th>lem</th>\n",
       "      <th>val</th>\n",
       "    </tr>\n",
       "  </thead>\n",
       "  <tbody>\n",
       "    <tr>\n",
       "      <th>0</th>\n",
       "      <td>abacus</td>\n",
       "      <td>trust</td>\n",
       "    </tr>\n",
       "    <tr>\n",
       "      <th>1</th>\n",
       "      <td>abba</td>\n",
       "      <td>positive</td>\n",
       "    </tr>\n",
       "    <tr>\n",
       "      <th>2</th>\n",
       "      <td>abbot</td>\n",
       "      <td>trust</td>\n",
       "    </tr>\n",
       "    <tr>\n",
       "      <th>3</th>\n",
       "      <td>abduction</td>\n",
       "      <td>fear,negative,sadness,surprise</td>\n",
       "    </tr>\n",
       "    <tr>\n",
       "      <th>4</th>\n",
       "      <td>abhor</td>\n",
       "      <td>anger,disgust,fear,negative</td>\n",
       "    </tr>\n",
       "    <tr>\n",
       "      <th>...</th>\n",
       "      <td>...</td>\n",
       "      <td>...</td>\n",
       "    </tr>\n",
       "    <tr>\n",
       "      <th>5296</th>\n",
       "      <td>worry</td>\n",
       "      <td>anticipation,fear,negative,sadness</td>\n",
       "    </tr>\n",
       "    <tr>\n",
       "      <th>5297</th>\n",
       "      <td>wreck</td>\n",
       "      <td>anger,disgust,fear,negative,sadness,surprise</td>\n",
       "    </tr>\n",
       "    <tr>\n",
       "      <th>5298</th>\n",
       "      <td>wretch</td>\n",
       "      <td>anger,disgust,negative,sadness</td>\n",
       "    </tr>\n",
       "    <tr>\n",
       "      <th>5299</th>\n",
       "      <td>wrongful</td>\n",
       "      <td>anger,disgust,negative,sadness</td>\n",
       "    </tr>\n",
       "    <tr>\n",
       "      <th>5300</th>\n",
       "      <td>yawn</td>\n",
       "      <td>negative</td>\n",
       "    </tr>\n",
       "  </tbody>\n",
       "</table>\n",
       "<p>5301 rows × 2 columns</p>\n",
       "</div>"
      ],
      "text/plain": [
       "            lem                                           val\n",
       "0        abacus                                         trust\n",
       "1          abba                                      positive\n",
       "2         abbot                                         trust\n",
       "3     abduction                fear,negative,sadness,surprise\n",
       "4         abhor                   anger,disgust,fear,negative\n",
       "...         ...                                           ...\n",
       "5296      worry            anticipation,fear,negative,sadness\n",
       "5297      wreck  anger,disgust,fear,negative,sadness,surprise\n",
       "5298     wretch                anger,disgust,negative,sadness\n",
       "5299   wrongful                anger,disgust,negative,sadness\n",
       "5300       yawn                                      negative\n",
       "\n",
       "[5301 rows x 2 columns]"
      ]
     },
     "execution_count": 238,
     "metadata": {},
     "output_type": "execute_result"
    }
   ],
   "source": [
    "en"
   ]
  },
  {
   "cell_type": "code",
   "execution_count": 246,
   "id": "303a2808",
   "metadata": {},
   "outputs": [],
   "source": [
    "def get_tag(word, lang):\n",
    "    return ts.google(word, from_language='en', to_language=lang).split(' ')[0]\n"
   ]
  },
  {
   "cell_type": "code",
   "execution_count": 247,
   "id": "fbb72dc6",
   "metadata": {},
   "outputs": [
    {
     "name": "stderr",
     "output_type": "stream",
     "text": [
      "\r",
      "  0% (0 of 5301) |                       | Elapsed Time: 0:00:00 ETA:  --:--:--"
     ]
    },
    {
     "name": "stdout",
     "output_type": "stream",
     "text": [
      "pl\n"
     ]
    },
    {
     "name": "stderr",
     "output_type": "stream",
     "text": [
      "100% (5301 of 5301) |####################| Elapsed Time: 2:41:22 Time:  2:41:22\n",
      "  0% (0 of 5301) |                       | Elapsed Time: 0:00:00 ETA:  --:--:--"
     ]
    },
    {
     "name": "stdout",
     "output_type": "stream",
     "text": [
      "de\n"
     ]
    },
    {
     "name": "stderr",
     "output_type": "stream",
     "text": [
      "100% (5301 of 5301) |####################| Elapsed Time: 2:48:32 Time:  2:48:32\n"
     ]
    }
   ],
   "source": [
    "sentiment_dicts = []\n",
    "for lang in langs:\n",
    "    try:\n",
    "        print(lang)\n",
    "        sentiment_dict = dict(zip([get_tag(i,lang) for i in progressbar(en.lem.values )],\n",
    "                                  [i for i in en.val.values]))\n",
    "        with open(f'lang_sentiment_dicts/{lang}_sentiments.csv', 'w') as f:\n",
    "            for key in sentiment_dict.keys():\n",
    "                f.write(\"%s,%s\\n\"%(key,sentiment_dict[key]))\n",
    "\n",
    "    except Exception as e:\n",
    "        print(e)"
   ]
  },
  {
   "cell_type": "code",
   "execution_count": 233,
   "id": "79fc87e4",
   "metadata": {},
   "outputs": [
    {
     "name": "stdout",
     "output_type": "stream",
     "text": [
      "0 / 26\n",
      "1 / 26\n",
      "2 / 26\n",
      "3 / 26\n",
      "4 / 26\n",
      "5 / 26\n",
      "6 / 26\n",
      "7 / 26\n",
      "8 / 26\n",
      "9 / 26\n",
      "10 / 26\n",
      "11 / 26\n",
      "12 / 26\n",
      "13 / 26\n",
      "14 / 26\n",
      "15 / 26\n",
      "16 / 26\n",
      "17 / 26\n",
      "18 / 26\n",
      "19 / 26\n",
      "20 / 26\n",
      "21 / 26\n",
      "22 / 26\n",
      "23 / 26\n",
      "24 / 26\n",
      "25 / 26\n",
      "26 / 26\n"
     ]
    }
   ],
   "source": [
    "with open(\"lang_sentiment_dicts/en_embedded.csv\",'a') as csvfile:\n",
    "    x = en.lem.values\n",
    "    n = 200\n",
    "    iterations = int(np.ceil(x.shape[0]/n))\n",
    "    for i in range(iterations):\n",
    "        print(i,\"/\",iterations-1)\n",
    "        batch = x[i*n:i*n+n]\n",
    "        np.savetxt(csvfile, \n",
    "                 embedd(batch), \n",
    "                  delimiter=',', newline='\\n', header='', footer='', comments='# ', encoding=None)\n"
   ]
  },
  {
   "cell_type": "code",
   "execution_count": 235,
   "id": "297fd1dd",
   "metadata": {},
   "outputs": [
    {
     "data": {
      "text/html": [
       "<div>\n",
       "<style scoped>\n",
       "    .dataframe tbody tr th:only-of-type {\n",
       "        vertical-align: middle;\n",
       "    }\n",
       "\n",
       "    .dataframe tbody tr th {\n",
       "        vertical-align: top;\n",
       "    }\n",
       "\n",
       "    .dataframe thead th {\n",
       "        text-align: right;\n",
       "    }\n",
       "</style>\n",
       "<table border=\"1\" class=\"dataframe\">\n",
       "  <thead>\n",
       "    <tr style=\"text-align: right;\">\n",
       "      <th></th>\n",
       "      <th>lem</th>\n",
       "      <th>val</th>\n",
       "    </tr>\n",
       "  </thead>\n",
       "  <tbody>\n",
       "    <tr>\n",
       "      <th>0</th>\n",
       "      <td>abacus</td>\n",
       "      <td>trust</td>\n",
       "    </tr>\n",
       "    <tr>\n",
       "      <th>4</th>\n",
       "      <td>abba</td>\n",
       "      <td>positive</td>\n",
       "    </tr>\n",
       "    <tr>\n",
       "      <th>5</th>\n",
       "      <td>abbot</td>\n",
       "      <td>trust</td>\n",
       "    </tr>\n",
       "    <tr>\n",
       "      <th>6</th>\n",
       "      <td>abduction</td>\n",
       "      <td>fear,negative,sadness,surprise</td>\n",
       "    </tr>\n",
       "    <tr>\n",
       "      <th>9</th>\n",
       "      <td>abhor</td>\n",
       "      <td>anger,disgust,fear,negative</td>\n",
       "    </tr>\n",
       "    <tr>\n",
       "      <th>...</th>\n",
       "      <td>...</td>\n",
       "      <td>...</td>\n",
       "    </tr>\n",
       "    <tr>\n",
       "      <th>897</th>\n",
       "      <td>worry</td>\n",
       "      <td>anticipation,fear,negative,sadness</td>\n",
       "    </tr>\n",
       "    <tr>\n",
       "      <th>898</th>\n",
       "      <td>wreck</td>\n",
       "      <td>anger,disgust,fear,negative,sadness,surprise</td>\n",
       "    </tr>\n",
       "    <tr>\n",
       "      <th>899</th>\n",
       "      <td>wretch</td>\n",
       "      <td>anger,disgust,negative,sadness</td>\n",
       "    </tr>\n",
       "    <tr>\n",
       "      <th>900</th>\n",
       "      <td>wrongful</td>\n",
       "      <td>anger,disgust,negative,sadness</td>\n",
       "    </tr>\n",
       "    <tr>\n",
       "      <th>901</th>\n",
       "      <td>yawn</td>\n",
       "      <td>negative</td>\n",
       "    </tr>\n",
       "  </tbody>\n",
       "</table>\n",
       "<p>5301 rows × 2 columns</p>\n",
       "</div>"
      ],
      "text/plain": [
       "           lem                                           val\n",
       "0       abacus                                         trust\n",
       "4         abba                                      positive\n",
       "5        abbot                                         trust\n",
       "6    abduction                fear,negative,sadness,surprise\n",
       "9        abhor                   anger,disgust,fear,negative\n",
       "..         ...                                           ...\n",
       "897      worry            anticipation,fear,negative,sadness\n",
       "898      wreck  anger,disgust,fear,negative,sadness,surprise\n",
       "899     wretch                anger,disgust,negative,sadness\n",
       "900   wrongful                anger,disgust,negative,sadness\n",
       "901       yawn                                      negative\n",
       "\n",
       "[5301 rows x 2 columns]"
      ]
     },
     "execution_count": 235,
     "metadata": {},
     "output_type": "execute_result"
    }
   ],
   "source": [
    "e"
   ]
  },
  {
   "cell_type": "code",
   "execution_count": null,
   "id": "b1d3d095",
   "metadata": {},
   "outputs": [],
   "source": []
  }
 ],
 "metadata": {
  "kernelspec": {
   "display_name": "Python 3 (ipykernel)",
   "language": "python",
   "name": "python3"
  },
  "language_info": {
   "codemirror_mode": {
    "name": "ipython",
    "version": 3
   },
   "file_extension": ".py",
   "mimetype": "text/x-python",
   "name": "python",
   "nbconvert_exporter": "python",
   "pygments_lexer": "ipython3",
   "version": "3.10.12"
  }
 },
 "nbformat": 4,
 "nbformat_minor": 5
}
